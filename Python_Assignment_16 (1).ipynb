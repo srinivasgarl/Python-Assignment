{
  "metadata": {
    "language_info": {
      "codemirror_mode": {
        "name": "python",
        "version": 3
      },
      "file_extension": ".py",
      "mimetype": "text/x-python",
      "name": "python",
      "nbconvert_exporter": "python",
      "pygments_lexer": "ipython3",
      "version": "3.8"
    },
    "kernelspec": {
      "name": "python",
      "display_name": "Python (Pyodide)",
      "language": "python"
    }
  },
  "nbformat_minor": 4,
  "nbformat": 4,
  "cells": [
    {
      "cell_type": "code",
      "source": "years_list = [2000, 2001, 2002, 2003, 2004, 2005]\nprint(years_list)\n",
      "metadata": {
        "trusted": true
      },
      "execution_count": 2,
      "outputs": [
        {
          "name": "stdout",
          "text": "[2000, 2001, 2002, 2003, 2004, 2005]\n",
          "output_type": "stream"
        }
      ]
    },
    {
      "cell_type": "code",
      "source": "",
      "metadata": {},
      "execution_count": null,
      "outputs": []
    },
    {
      "cell_type": "code",
      "source": "",
      "metadata": {},
      "execution_count": null,
      "outputs": []
    },
    {
      "cell_type": "code",
      "source": "things = [\"mozzarella\", \"cinderella\", \"salmonella\"]\nprint(things)",
      "metadata": {
        "trusted": true
      },
      "execution_count": 3,
      "outputs": [
        {
          "name": "stdout",
          "text": "['mozzarella', 'cinderella', 'salmonella']\n",
          "output_type": "stream"
        }
      ]
    },
    {
      "cell_type": "code",
      "source": "things = [\"mozzarella\", \"cinderella\", \"salmonella\"]\nthings[1] = things[1].capitalize()\nprint(things)\n",
      "metadata": {
        "trusted": true
      },
      "execution_count": 4,
      "outputs": [
        {
          "name": "stdout",
          "text": "['mozzarella', 'Cinderella', 'salmonella']\n",
          "output_type": "stream"
        }
      ]
    },
    {
      "cell_type": "code",
      "source": "things = [\"mozzarella\", \"cinderella\", \"salmonella\"]\nsurprise = [elem.capitalize() + \"!\" for elem in things]\nprint(surprise)\n",
      "metadata": {
        "trusted": true
      },
      "execution_count": 5,
      "outputs": [
        {
          "name": "stdout",
          "text": "['Mozzarella!', 'Cinderella!', 'Salmonella!']\n",
          "output_type": "stream"
        }
      ]
    },
    {
      "cell_type": "code",
      "source": "things = [\"mozzarella\", \"cinderella\", \"salmonella\"]\nsurprise = [elem.capitalize() + \"!\" for elem in things]\nlast_element = surprise[-1].lower()[::-1].capitalize()\nprint(last_element)\n",
      "metadata": {
        "trusted": true
      },
      "execution_count": 6,
      "outputs": [
        {
          "name": "stdout",
          "text": "!allenomlas\n",
          "output_type": "stream"
        }
      ]
    },
    {
      "cell_type": "code",
      "source": "e2f = {\n    'dog': 'chien',\n    'cat': 'chat',\n    'walrus': 'morse'\n}\n\nprint(e2f)\n",
      "metadata": {
        "trusted": true
      },
      "execution_count": 7,
      "outputs": [
        {
          "name": "stdout",
          "text": "{'dog': 'chien', 'cat': 'chat', 'walrus': 'morse'}\n",
          "output_type": "stream"
        }
      ]
    },
    {
      "cell_type": "code",
      "source": "",
      "metadata": {},
      "execution_count": null,
      "outputs": []
    },
    {
      "cell_type": "code",
      "source": "",
      "metadata": {},
      "execution_count": null,
      "outputs": []
    },
    {
      "cell_type": "code",
      "source": "",
      "metadata": {},
      "execution_count": null,
      "outputs": []
    },
    {
      "cell_type": "code",
      "source": "e2f = {\n    'dog': 'chien',\n    'cat': 'chat',\n    'walrus': 'morse'\n}\n\nf2e = {value: key for key, value in e2f.items()}\n\nprint(f2e['chien'])\n",
      "metadata": {
        "trusted": true
      },
      "execution_count": 8,
      "outputs": [
        {
          "name": "stdout",
          "text": "dog\n",
          "output_type": "stream"
        }
      ]
    },
    {
      "cell_type": "code",
      "source": "e2f = {\n    'dog': 'chien',\n    'cat': 'chat',\n    'walrus': 'morse'\n}\n\nf2e = {value: key for key, value in e2f.items()}\n\nprint(f2e['chien'])\n",
      "metadata": {
        "trusted": true
      },
      "execution_count": 9,
      "outputs": [
        {
          "name": "stdout",
          "text": "dog\n",
          "output_type": "stream"
        }
      ]
    },
    {
      "cell_type": "code",
      "source": "e2f = {\n    'dog': 'chien',\n    'cat': 'chat',\n    'walrus': 'morse'\n}\n\nenglish_words = set(e2f.keys())\nprint(english_words)",
      "metadata": {
        "trusted": true
      },
      "execution_count": 10,
      "outputs": [
        {
          "name": "stdout",
          "text": "{'cat', 'dog', 'walrus'}\n",
          "output_type": "stream"
        }
      ]
    },
    {
      "cell_type": "code",
      "source": "life = {\n    'animals': {\n        'dog': 'chien',\n        'cat': 'chat'\n    },\n    'nature': {\n        'tree': 'arbre',\n        'flower': 'fleur'\n    }\n}\n\ntop_level_keys = life.keys()\nprint(top_level_keys)\n",
      "metadata": {
        "trusted": true
      },
      "execution_count": 13,
      "outputs": [
        {
          "name": "stdout",
          "text": "dict_keys(['animals', 'nature'])\n",
          "output_type": "stream"
        }
      ]
    },
    {
      "cell_type": "code",
      "source": "life = {\n    'animals': {\n        'dog': 'chien',\n        'cat': 'chat'\n    },\n    'nature': {\n        'tree': 'arbre',\n        'flower': 'fleur'\n    }\n}\n\nanimal_keys = life['animals'].keys()\nprint(animal_keys)\n",
      "metadata": {
        "trusted": true
      },
      "execution_count": 15,
      "outputs": [
        {
          "name": "stdout",
          "text": "dict_keys(['dog', 'cat'])\n",
          "output_type": "stream"
        }
      ]
    },
    {
      "cell_type": "code",
      "source": "life = {\n    'animals': {\n        'dog': 'chien',\n        'cat': 'chat'\n    },\n    'nature': {\n        'tree': 'arbre',\n        'flower': 'fleur'\n    }\n}\n\ncat_value = life['animals']['cat']\nprint(cat_value)\n",
      "metadata": {
        "trusted": true
      },
      "execution_count": 16,
      "outputs": [
        {
          "name": "stdout",
          "text": "chat\n",
          "output_type": "stream"
        }
      ]
    },
    {
      "cell_type": "code",
      "source": "",
      "metadata": {},
      "execution_count": null,
      "outputs": []
    }
  ]
}