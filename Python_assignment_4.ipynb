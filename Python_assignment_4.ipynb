{
  "metadata": {
    "kernelspec": {
      "name": "python",
      "display_name": "Python (Pyodide)",
      "language": "python"
    },
    "language_info": {
      "codemirror_mode": {
        "name": "python",
        "version": 3
      },
      "file_extension": ".py",
      "mimetype": "text/x-python",
      "name": "python",
      "nbconvert_exporter": "python",
      "pygments_lexer": "ipython3",
      "version": "3.8"
    }
  },
  "nbformat_minor": 5,
  "nbformat": 4,
  "cells": [
    {
      "cell_type": "code",
      "source": "spam=[2,4,6,8,10]\nspam[2]='hello'\nprint(spam)\n",
      "metadata": {
        "trusted": true
      },
      "execution_count": 1,
      "outputs": [
        {
          "name": "stdout",
          "text": "[2, 4, 'hello', 8, 10]\n",
          "output_type": "stream"
        }
      ],
      "id": "8717915a-8de2-478d-8dff-2992d6190006"
    },
    {
      "cell_type": "code",
      "source": "spam = ['a', 'b', 'c', 'd'] \nspam[int(int('3' * 2) / 11)]",
      "metadata": {
        "trusted": true
      },
      "execution_count": 3,
      "outputs": [
        {
          "execution_count": 3,
          "output_type": "execute_result",
          "data": {
            "text/plain": "'d'"
          },
          "metadata": {}
        }
      ],
      "id": "e9cb17e5-b58e-4664-bd4e-1f7afc0d85d0"
    },
    {
      "cell_type": "code",
      "source": "spam = ['a', 'b', 'c', 'd'] \nspam[-1]",
      "metadata": {
        "trusted": true
      },
      "execution_count": 4,
      "outputs": [
        {
          "execution_count": 4,
          "output_type": "execute_result",
          "data": {
            "text/plain": "'d'"
          },
          "metadata": {}
        }
      ],
      "id": "fe55883a-6887-43dd-9498-5333a51799e2"
    },
    {
      "cell_type": "code",
      "source": "spam = ['a', 'b', 'c', 'd'] \nspam[:2]",
      "metadata": {
        "trusted": true
      },
      "execution_count": 5,
      "outputs": [
        {
          "execution_count": 5,
          "output_type": "execute_result",
          "data": {
            "text/plain": "['a', 'b']"
          },
          "metadata": {}
        }
      ],
      "id": "aab2371b-7fae-48b1-beb4-6ef8c4b5a90e"
    },
    {
      "cell_type": "code",
      "source": "bacon= [3.14, 'cat', 11, 'cat' ,True] \nprint(bacon.index('cat'))\n",
      "metadata": {
        "trusted": true
      },
      "execution_count": 6,
      "outputs": [
        {
          "name": "stdout",
          "text": "1\n",
          "output_type": "stream"
        }
      ],
      "id": "20ee01d5-aa41-4246-9d75-87ff8e2b95d6"
    },
    {
      "cell_type": "code",
      "source": "bacon= [3.14, 'cat', 11, 'cat' ,True] \nbacon.append(99)\nprint(bacon)\n",
      "metadata": {
        "trusted": true
      },
      "execution_count": 7,
      "outputs": [
        {
          "name": "stdout",
          "text": "[3.14, 'cat', 11, 'cat', True, 99]\n",
          "output_type": "stream"
        }
      ],
      "id": "fd789728-225c-4ff0-88e5-ec0652199df9"
    },
    {
      "cell_type": "code",
      "source": "bacon= [3.14, 'cat', 11, 'cat' ,True] \nbacon.remove('cat')\nprint(bacon)\n",
      "metadata": {
        "trusted": true
      },
      "execution_count": 8,
      "outputs": [
        {
          "name": "stdout",
          "text": "[3.14, 11, 'cat', True]\n",
          "output_type": "stream"
        }
      ],
      "id": "9c30625b-63b6-44e2-9b34-b180d781750c"
    },
    {
      "cell_type": "code",
      "source": "bacon= [3.14, 'cat', 11, 'cat' ,True] \nspam=['India','Pakistan','Australia','England',4]\nbacon_spam=bacon+spam\nprint(bacon)\nprint(spam)\nprint(bacon_spam)\n",
      "metadata": {
        "trusted": true
      },
      "execution_count": 9,
      "outputs": [
        {
          "name": "stdout",
          "text": "[3.14, 'cat', 11, 'cat', True]\n['India', 'Pakistan', 'Australia', 'England', 4]\n[3.14, 'cat', 11, 'cat', True, 'India', 'Pakistan', 'Australia', 'England', 4]\n",
          "output_type": "stream"
        }
      ],
      "id": "034ab12e-ba3e-464e-904d-bf14b8b25123"
    },
    {
      "cell_type": "code",
      "source": "bacon= [3.14, 'cat', 11, 'cat' ,True] \nspam=bacon\nprint(bacon)\nprint(spam)\n",
      "metadata": {
        "trusted": true
      },
      "execution_count": 10,
      "outputs": [
        {
          "name": "stdout",
          "text": "[3.14, 'cat', 11, 'cat', True]\n[3.14, 'cat', 11, 'cat', True]\n",
          "output_type": "stream"
        }
      ],
      "id": "d236d2ed-4fc3-4aa4-8739-9c9a5a880740"
    },
    {
      "cell_type": "code",
      "source": "my_list = [1, 2, 3, 4]\n\n\nmy_list.append(5)\nprint(my_list)  \n\n",
      "metadata": {
        "trusted": true
      },
      "execution_count": 12,
      "outputs": [
        {
          "name": "stdout",
          "text": "[1, 2, 3, 4, 5]\n",
          "output_type": "stream"
        }
      ],
      "id": "ecc8a462-a40e-4941-9a2c-45fcc45fa725"
    },
    {
      "cell_type": "code",
      "source": "my_list = [1, 2, 3, 4]\nmy_list.insert(2, 6)\nprint(my_list)  ",
      "metadata": {
        "trusted": true
      },
      "execution_count": 13,
      "outputs": [
        {
          "name": "stdout",
          "text": "[1, 2, 6, 3, 4]\n",
          "output_type": "stream"
        }
      ],
      "id": "f029f019-eb03-47bc-b6fb-7b45794d8b13"
    },
    {
      "cell_type": "code",
      "source": "my_list = [10, 20, 30, 40, 50]\nindex = 2  \nremoved_item = my_list.pop(index)\nprint(f\"Removed item: {removed_item}\")\nprint(f\"Updated list: {my_list}\")\n",
      "metadata": {
        "trusted": true
      },
      "execution_count": 15,
      "outputs": [
        {
          "name": "stdout",
          "text": "Removed item: 30\nUpdated list: [10, 20, 40, 50]\n",
          "output_type": "stream"
        }
      ],
      "id": "e52f6400-5632-43c9-9da5-38737f2a966b"
    },
    {
      "cell_type": "code",
      "source": "my_tuple = (1, 2, 3)\nmy_list = [1, 2, 3]\n##my_tuple[0] = 4 \n##my_list[0] = 4  \nmy_list.append(4)  \n# my_tuple.append(4)  \n\nprint(my_tuple)\nprint(my_list)  \n",
      "metadata": {
        "trusted": true
      },
      "execution_count": 18,
      "outputs": [
        {
          "name": "stdout",
          "text": "(1, 2, 3)\n[1, 2, 3, 4]\n",
          "output_type": "stream"
        }
      ],
      "id": "bb68ad4d-0bda-4d47-b3fd-0b7aa35cb9d1"
    },
    {
      "cell_type": "code",
      "source": "my_list = [1, 2, 3]\nanother_list = my_list\n\nanother_list.append(4)\nprint(my_list)      \nprint(another_list)\n",
      "metadata": {
        "trusted": true
      },
      "execution_count": 19,
      "outputs": [
        {
          "name": "stdout",
          "text": "[1, 2, 3, 4]\n[1, 2, 3, 4]\n",
          "output_type": "stream"
        }
      ],
      "id": "7efe2db0-4768-460d-93e8-a049ecee94b7"
    },
    {
      "cell_type": "code",
      "source": "",
      "metadata": {},
      "execution_count": null,
      "outputs": [],
      "id": "bbf6d489-1c40-4bd1-a868-10e92cabab3a"
    }
  ]
}